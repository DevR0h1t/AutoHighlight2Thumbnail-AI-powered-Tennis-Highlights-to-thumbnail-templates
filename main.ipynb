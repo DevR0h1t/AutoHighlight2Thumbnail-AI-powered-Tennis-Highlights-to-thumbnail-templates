{
 "cells": [
  {
   "cell_type": "markdown",
   "id": "395fdf01",
   "metadata": {},
   "source": [
    "Setup and imports"
   ]
  },
  {
   "cell_type": "code",
   "execution_count": null,
   "id": "02518bb8",
   "metadata": {},
   "outputs": [],
   "source": [
    "# Cell 1\n",
    "from utils import read_video, save_video, measure_distance, convert_pixel_to_meters\n",
    "from trackers.player_tracker import PlayerTracker\n",
    "from trackers.ball_tracker import BallTracker\n",
    "from trackers.court_line_detector import CourtLineDetector\n",
    "from trackers.mini_court import MiniCourt\n",
    "from highlight_exporter import HighlightExporter\n",
    "\n",
    "player_tracker  = PlayerTracker(model_path='weights/yolov5su.pt', device='cuda')\n",
    "ball_tracker    = BallTracker(model_path='weights/yolov5s_best_weights.pt', device='cuda')\n",
    "court_detector = CourtLineDetector(model_path='weights/keypoints_model.pth', device='cuda')\n"
   ]
  },
  {
   "cell_type": "markdown",
   "id": "bdcf367b",
   "metadata": {},
   "source": [
    "Read vids and initialise mini court"
   ]
  },
  {
   "cell_type": "code",
   "execution_count": null,
   "id": "0508b382",
   "metadata": {},
   "outputs": [],
   "source": [
    "frames, fps = read_video('input_videos/input_video.mp4')\n",
    "mini = MiniCourt(frames[0].shape)"
   ]
  },
  {
   "cell_type": "markdown",
   "id": "aaa5ba8e",
   "metadata": {},
   "source": [
    "Detections and mapping"
   ]
  },
  {
   "cell_type": "code",
   "execution_count": null,
   "id": "2fe44275",
   "metadata": {},
   "outputs": [],
   "source": [
    "player_dets_all  = player_tracker.detect_frames(frames)\n",
    "ball_centers     = ball_tracker.detect_frames(frames)\n",
    "court_kpts       = court_detector.predict_frames(frames)\n",
    "# filter to two players\n",
    "player_dets = player_tracker.choose_and_filter_players(court_kpts, player_dets_all)"
   ]
  },
  {
   "cell_type": "markdown",
   "id": "322491c1",
   "metadata": {},
   "source": [
    "Compute Speeds and collect highlights"
   ]
  },
  {
   "cell_type": "code",
   "execution_count": null,
   "id": "27101897",
   "metadata": {},
   "outputs": [],
   "source": [
    "import pandas as pd\n",
    "from copy import deepcopy\n",
    "import constants\n",
    "import cv2\n",
    "\n",
    "# Initialize exporter\n",
    "exp = HighlightExporter(output_dir='output', fps=fps)\n",
    "\n",
    "# Interpolate missing ball positions and detect shot frames\n",
    "ball_centers = ball_tracker.interpolate_ball_positions(ball_centers)\n",
    "ball_shot_frames = ball_tracker.get_ball_shot_frames(ball_centers)\n",
    "\n",
    "# Prepare data structures\n",
    "player_stats_data = []\n",
    "init = {\n",
    "    'frame': 0,\n",
    "    'p1_shots': 0, 'p1_total_shot_speed': 0.0, 'p1_last_shot_speed': 0.0,\n",
    "    'p2_shots': 0, 'p2_total_shot_speed': 0.0, 'p2_last_shot_speed': 0.0,\n",
    "    'p1_total_run_speed': 0.0, 'p1_last_run_speed': 0.0,\n",
    "    'p2_total_run_speed': 0.0, 'p2_last_run_speed': 0.0\n",
    "}\n",
    "player_stats_data.append(init)\n",
    "\n",
    "# Map mini-court positions for all frames\n",
    "players_mini_full, ball_mini_full = mini.map_positions(player_dets, ball_centers, court_kpts)\n",
    "\n",
    "total_frames = len(frames)\n",
    "# Loop over each shot interval\n",
    "for i in range(len(ball_shot_frames)-1):\n",
    "    start = ball_shot_frames[i]\n",
    "    end = ball_shot_frames[i+1]\n",
    "    duration_s = (end - start) / fps\n",
    "    # compute ball speed\n",
    "    b_start = ball_mini_full[start]\n",
    "    b_end = ball_mini_full[end]\n",
    "    dist_ball_px = measure_distance(b_start, b_end)\n",
    "    dist_ball_m = convert_pixel_to_meters(dist_ball_px, constants.COURT_LENGTH_M, mini.court_width)\n",
    "    speed_ball = (dist_ball_m / duration_s) * 3.6  # km/h\n",
    "    # determine hitter\n",
    "    p_pos = players_mini_full[start]\n",
    "    hitter = min(p_pos, key=lambda pid: measure_distance(p_pos[pid], b_start))\n",
    "    opp = 1 if hitter == 2 else 2\n",
    "    # opponent run speed\n",
    "    p_start = players_mini_full[start][opp]\n",
    "    p_end = players_mini_full[end][opp]\n",
    "    dist_run_px = measure_distance(p_start, p_end)\n",
    "    dist_run_m = convert_pixel_to_meters(dist_run_px, constants.COURT_LENGTH_M, mini.court_width)\n",
    "    speed_run = (dist_run_m / duration_s) * 3.6\n",
    "    # update stats\n",
    "    prev = deepcopy(player_stats_data[-1])\n",
    "    prev['frame'] = start\n",
    "    # shooter stats\n",
    "    prev[f'p{hitter}_shots'] += 1\n",
    "    prev[f'p{hitter}_total_shot_speed'] += speed_ball\n",
    "    prev[f'p{hitter}_last_shot_speed'] = speed_ball\n",
    "    # opponent run stats\n",
    "    prev[f'p{opp}_total_run_speed'] += speed_run\n",
    "    prev[f'p{opp}_last_run_speed'] = speed_run\n",
    "    player_stats_data.append(prev)\n",
    "\n",
    "# Convert to DataFrame and forward-fill per frame\n",
    "stats_df = pd.DataFrame(player_stats_data)\n",
    "frames_df = pd.DataFrame({'frame': list(range(total_frames))})\n",
    "stats_df = frames_df.merge(stats_df, on='frame', how='left').ffill()\n",
    "# compute averages\n",
    "stats_df['p1_avg_shot_speed'] = stats_df['p1_total_shot_speed'] / stats_df['p1_shots'].replace(0,1)\n",
    "stats_df['p2_avg_shot_speed'] = stats_df['p2_total_shot_speed'] / stats_df['p2_shots'].replace(0,1)\n",
    "stats_df['p1_avg_run_speed'] = stats_df['p1_total_run_speed'] / stats_df['p1_shots'].replace(0,1)\n",
    "stats_df['p2_avg_run_speed'] = stats_df['p2_total_run_speed'] / stats_df['p2_shots'].replace(0,1)\n",
    "\n",
    "# Annotate and export frames\n",
    "for idx, frame in enumerate(exp.get_frames()):\n",
    "    row = stats_df.iloc[idx]\n",
    "    cv2.putText(frame, f\"P1 shots: {int(row.p1_shots)}\", (10, 40), cv2.FONT_HERSHEY_SIMPLEX, 0.6, (255,255,255), 2)\n",
    "    cv2.putText(frame, f\"P2 shots: {int(row.p2_shots)}\", (10, 60), cv2.FONT_HERSHEY_SIMPLEX, 0.6, (255,255,255), 2)\n",
    "\n",
    "# finalize export\n",
    "save_video(exp.get_frames(), 'output/annotated.mp4', fps)\n",
    "exp.save_metadata('output/highlights.json')"
   ]
  }
 ],
 "metadata": {
  "language_info": {
   "name": "python"
  }
 },
 "nbformat": 4,
 "nbformat_minor": 5
}
